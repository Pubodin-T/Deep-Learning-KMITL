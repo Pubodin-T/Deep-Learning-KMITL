{
 "cells": [
  {
   "cell_type": "code",
   "execution_count": 1,
   "metadata": {},
   "outputs": [],
   "source": [
    "import os\n",
    "import numpy as np\n",
    "import cv2\n",
    "from os import listdir\n",
    "from os.path import isfile, join\n",
    "from tqdm import tqdm\n",
    "import tensorflow as tf\n",
    "from keras.models import Sequential\n",
    "from keras.layers import Dense, Dropout, Activation, Flatten , Conv2D, MaxPool2D\n",
    "import matplotlib.pyplot as plt\n",
    "from numpy import save\n",
    "from numpy import load"
   ]
  },
  {
   "cell_type": "code",
   "execution_count": 2,
   "metadata": {},
   "outputs": [],
   "source": [
    "trainpath = [r'H:/My Drive/DEEP_LEARNING/[Augmented]LangSad/train/',r'H:/My Drive/DEEP_LEARNING/[Augmented]LongGong/train/',r'H:/My Drive/DEEP_LEARNING/[Augmented]LumYai/train/']\n",
    "valpath = [r'H:/My Drive/DEEP_LEARNING/[Augmented]LangSad/val/',r'H:/My Drive/DEEP_LEARNING/[Augmented]LongGong/val/',r'H:/My Drive/DEEP_LEARNING/[Augmented]LumYai/val/']\n",
    "testpath = [r'H:/My Drive/DEEP_LEARNING/[Augmented]LangSad/test/',r'H:/My Drive/DEEP_LEARNING/[Augmented]LongGong/test/',r'H:/My Drive/DEEP_LEARNING/[Augmented]LumYai/test/']\n",
    "trainImg = []\n",
    "valImg = []\n",
    "testImg = []\n",
    "for i in trainpath:\n",
    "  for f in listdir(i):\n",
    "    if(f != 'desktop.ini'):\n",
    "        trainImg.append(i+f+'/')\n",
    "for i in valpath:\n",
    "  for f in listdir(i):\n",
    "    if(f != 'desktop.ini'):\n",
    "        valImg.append(i+f+'/')\n",
    "for i in testpath:\n",
    "  for f in listdir(i):\n",
    "    if(f != 'desktop.ini'):\n",
    "        testImg.append(i+f+'/')"
   ]
  },
  {
   "cell_type": "code",
   "execution_count": null,
   "metadata": {},
   "outputs": [],
   "source": [
    "trainImg ,valImg, testImg"
   ]
  },
  {
   "cell_type": "code",
   "execution_count": null,
   "metadata": {},
   "outputs": [],
   "source": [
    "total_x_train = []\n",
    "total_y_train = []\n",
    "total_x_val = []\n",
    "total_y_val = []\n",
    "total_x_test = []\n",
    "total_y_test = []"
   ]
  },
  {
   "cell_type": "code",
   "execution_count": null,
   "metadata": {},
   "outputs": [],
   "source": [
    "def img2data(path):\n",
    "  rawImgs = []\n",
    "  labels = []\n",
    "  i=0\n",
    "  for imagePath in (path):\n",
    "    for item in tqdm(listdir(imagePath)):\n",
    "      if(item != 'desktop.ini'):\n",
    "        file = join(imagePath, item)\n",
    "        img = cv2.imread(file , cv2.COLOR_BGR2RGB)\n",
    "        img = cv2.cvtColor(img, cv2.COLOR_BGR2RGB)\n",
    "        img = cv2.resize(img, (224, 224), interpolation = cv2.INTER_AREA)                  \n",
    "        rawImgs.append(img)\n",
    "        if imagePath in path[:9]:\n",
    "          labels.append([1,0,0])\n",
    "          if(str(imagePath.split('/')[4]) == 'train'):\n",
    "            total_y_train.append([1,0,0])\n",
    "          elif(str(imagePath.split('/')[4]) == 'val'):\n",
    "            total_y_val.append([1,0,0])\n",
    "          elif(str(imagePath.split('/')[4]) == 'test'):\n",
    "            total_y_test.append([1,0,0])\n",
    "        elif imagePath in path[9:18]:\n",
    "          labels.append([0,1,0])\n",
    "          if(str(imagePath.split('/')[4]) == 'train'):\n",
    "            total_y_train.append([0,1,0])\n",
    "          elif(str(imagePath.split('/')[4]) == 'val'):\n",
    "            total_y_val.append([0,1,0])\n",
    "          elif(str(imagePath.split('/')[4]) == 'test'):\n",
    "            total_y_test.append([0,1,0])\n",
    "        elif imagePath in path[18:27]:\n",
    "          labels.append([0,0,1])\n",
    "          if(str(imagePath.split('/')[4]) == 'train'):\n",
    "            total_y_train.append([0,0,1])\n",
    "          elif(str(imagePath.split('/')[4]) == 'val'):\n",
    "            total_y_val.append([0,0,1])\n",
    "          elif(str(imagePath.split('/')[4]) == 'test'):\n",
    "            total_y_test.append([0,0,1])\n",
    "\n",
    "        if(str(imagePath.split('/')[4]) == 'train'):\n",
    "          total_x_train.append(img)\n",
    "        elif(str(imagePath.split('/')[4]) == 'val'):\n",
    "          total_x_val.append(img)\n",
    "        elif(str(imagePath.split('/')[4]) == 'test'):\n",
    "          total_x_test.append(img)\n",
    "  return rawImgs, labels"
   ]
  },
  {
   "cell_type": "code",
   "execution_count": null,
   "metadata": {},
   "outputs": [],
   "source": [
    "from tensorflow.python.client import device_lib\n",
    "assert 'GPU' in str(device_lib.list_local_devices())\n",
    "device_lib.list_local_devices()"
   ]
  },
  {
   "cell_type": "code",
   "execution_count": null,
   "metadata": {},
   "outputs": [],
   "source": [
    "x_train, y_train = img2data(trainImg)\n",
    "x_val, y_val = img2data(valImg)\n",
    "x_test, y_test = img2data(testImg)\n",
    "\n",
    "print(len(total_x_train))\n",
    "print(len(total_y_train))\n",
    "print(len(total_x_val))\n",
    "print(len(total_y_val))\n",
    "print(len(total_x_test))\n",
    "print(len(total_y_test))\n",
    "save('x_train.npy', total_x_train)\n",
    "save('y_train.npy', total_y_train)\n",
    "save('x_val.npy', total_x_val)\n",
    "save('y_val.npy', total_y_val)\n",
    "save('x_test.npy', total_x_test)\n",
    "save('y_test.npy', total_y_test)\n"
   ]
  },
  {
   "cell_type": "code",
   "execution_count": null,
   "metadata": {},
   "outputs": [],
   "source": [
    "x_train = np.array(x_train)\n",
    "y_train = np.array(y_train)\n",
    "x_val = np.array(x_val)\n",
    "y_val = np.array(y_val)\n",
    "x_test = np.array(x_test)\n",
    "y_test = np.array(y_test)"
   ]
  },
  {
   "cell_type": "code",
   "execution_count": 4,
   "metadata": {},
   "outputs": [],
   "source": [
    "x_train = load('x_train.npy')\n",
    "y_train = load('y_train.npy')\n",
    "x_val = load('x_val.npy')\n",
    "y_val = load('y_val.npy')\n",
    "x_test = load('x_test.npy')\n",
    "y_test = load('y_test.npy')\n",
    "\n",
    "\n",
    "x_train = np.array(x_train)\n",
    "y_train = np.array(y_train)\n",
    "x_val = np.array(x_val)\n",
    "y_val = np.array(y_val)\n",
    "x_test = np.array(x_test)\n",
    "y_test = np.array(y_test)"
   ]
  },
  {
   "cell_type": "code",
   "execution_count": 5,
   "metadata": {},
   "outputs": [
    {
     "data": {
      "text/plain": [
       "((44098, 224, 224, 3),\n",
       " (44098, 3),\n",
       " (6087, 224, 224, 3),\n",
       " (6087, 3),\n",
       " (12241, 224, 224, 3),\n",
       " (12241, 3))"
      ]
     },
     "execution_count": 5,
     "metadata": {},
     "output_type": "execute_result"
    }
   ],
   "source": [
    "x_train.shape,y_train.shape,x_val.shape,y_val.shape,x_test.shape,y_test.shape"
   ]
  },
  {
   "cell_type": "code",
   "execution_count": 6,
   "metadata": {},
   "outputs": [],
   "source": [
    "import keras,os\n",
    "from keras.models import Sequential\n",
    "from keras.layers import Dense, Conv2D, MaxPool2D , Flatten\n",
    "from keras.preprocessing.image import ImageDataGenerator\n",
    "import numpy as np"
   ]
  },
  {
   "cell_type": "code",
   "execution_count": 7,
   "metadata": {},
   "outputs": [],
   "source": [
    "import tensorflow as tf\n",
    "import matplotlib.pyplot as plt\n",
    "import glob \n",
    "import os \n",
    "import cv2\n",
    "import math\n",
    "from keras import applications\n",
    "from keras.models import Sequential\n",
    "from keras.layers import Conv2D,MaxPooling2D,Convolution2D,Activation,Flatten,Dense,Dropout,MaxPool2D,BatchNormalization\n",
    "from keras.utils import to_categorical\n",
    "from keras.preprocessing.image import ImageDataGenerator"
   ]
  },
  {
   "cell_type": "code",
   "execution_count": null,
   "metadata": {},
   "outputs": [],
   "source": [
    "pip install --upgrade tensorflow-hub"
   ]
  },
  {
   "cell_type": "code",
   "execution_count": 8,
   "metadata": {},
   "outputs": [],
   "source": [
    "import matplotlib.pylab as plt\n",
    "import tensorflow as tf\n",
    "import tensorflow_hub as hub"
   ]
  },
  {
   "cell_type": "code",
   "execution_count": 9,
   "metadata": {},
   "outputs": [],
   "source": [
    " mobilenet_v2 = \"https://tfhub.dev/google/tf2-preview/mobilenet_v2/feature_vector/4\""
   ]
  },
  {
   "cell_type": "code",
   "execution_count": 10,
   "metadata": {},
   "outputs": [
    {
     "name": "stdout",
     "output_type": "stream",
     "text": [
      "WARNING:tensorflow:Please fix your imports. Module tensorflow.python.training.tracking.data_structures has been moved to tensorflow.python.trackable.data_structures. The old module will be deleted in version 2.11.\n"
     ]
    }
   ],
   "source": [
    "mobile_net_layers = hub.KerasLayer(mobilenet_v2, input_shape=(224,224,3))"
   ]
  },
  {
   "cell_type": "code",
   "execution_count": 11,
   "metadata": {},
   "outputs": [],
   "source": [
    "mobile_net_layers.trainable = False\n"
   ]
  },
  {
   "cell_type": "code",
   "execution_count": null,
   "metadata": {},
   "outputs": [],
   "source": [
    "pip install sklearn"
   ]
  },
  {
   "cell_type": "code",
   "execution_count": null,
   "metadata": {},
   "outputs": [],
   "source": [
    "# import pandas as pd  \n",
    "# from sklearn.model_selection import GridSearchCV, KFold  \n",
    "# from keras.wrappers.scikit_learn import KerasClassifier  \n",
    "# def create_my_model(learnRate, dropoutRate):  \n",
    "#     # Creating the model  \n",
    "#     mymodel = tf.keras.Sequential([\n",
    "#       mobile_net_layers,\n",
    "#       tf.keras.layers.Dropout(dropoutRate),\n",
    "#       tf.keras.layers.Dense(3,activation='softmax')\n",
    "#     ])\n",
    "  \n",
    "#     # Compile the model  \n",
    "#     myadam = Adam(learning_rate = learnRate)  \n",
    "#     mymodel.compile(loss = 'binary_crossentropy', optimizer = myadam, metrics = ['accuracy'])  \n",
    "#     mymodel.summary()\n",
    "#     return mymodel  \n",
    "  \n",
    "# # Creating the model object  \n",
    "# mymodel = KerasClassifier(build_fn = create_my_model, verbose = 1)"
   ]
  },
  {
   "cell_type": "code",
   "execution_count": 12,
   "metadata": {},
   "outputs": [
    {
     "name": "stdout",
     "output_type": "stream",
     "text": [
      "Model: \"sequential\"\n",
      "_________________________________________________________________\n",
      " Layer (type)                Output Shape              Param #   \n",
      "=================================================================\n",
      " keras_layer (KerasLayer)    (None, 1280)              2257984   \n",
      "                                                                 \n",
      " dropout (Dropout)           (None, 1280)              0         \n",
      "                                                                 \n",
      " dense (Dense)               (None, 3)                 3843      \n",
      "                                                                 \n",
      "=================================================================\n",
      "Total params: 2,261,827\n",
      "Trainable params: 3,843\n",
      "Non-trainable params: 2,257,984\n",
      "_________________________________________________________________\n"
     ]
    }
   ],
   "source": [
    "model = tf.keras.Sequential([\n",
    "  mobile_net_layers,\n",
    "  tf.keras.layers.Dropout(0.3),\n",
    "  tf.keras.layers.Dense(3,activation='softmax')\n",
    "])\n",
    "model.summary()"
   ]
  },
  {
   "cell_type": "code",
   "execution_count": 13,
   "metadata": {},
   "outputs": [],
   "source": [
    "from keras.optimizers import Adam\n",
    "opt = tf.keras.optimizers.Adam(learning_rate=0.00001)\n",
    "model.compile(optimizer=opt, loss=keras.losses.categorical_crossentropy, metrics=['accuracy'])"
   ]
  },
  {
   "cell_type": "code",
   "execution_count": 14,
   "metadata": {},
   "outputs": [
    {
     "ename": "InternalError",
     "evalue": "Failed copying input tensor from /job:localhost/replica:0/task:0/device:CPU:0 to /job:localhost/replica:0/task:0/device:GPU:0 in order to run _EagerConst: Dst tensor is not initialized.",
     "output_type": "error",
     "traceback": [
      "\u001b[1;31m---------------------------------------------------------------------------\u001b[0m",
      "\u001b[1;31mInternalError\u001b[0m                             Traceback (most recent call last)",
      "Cell \u001b[1;32mIn [14], line 1\u001b[0m\n\u001b[1;32m----> 1\u001b[0m history \u001b[39m=\u001b[39m model\u001b[39m.\u001b[39;49mfit(x_train, y_train ,batch_size \u001b[39m=\u001b[39;49m \u001b[39m10\u001b[39;49m, epochs\u001b[39m=\u001b[39;49m\u001b[39m20\u001b[39;49m ,validation_data\u001b[39m=\u001b[39;49m(x_val, y_val))\n",
      "File \u001b[1;32mc:\\Users\\oatxs\\AppData\\Local\\Programs\\Python\\Python39\\lib\\site-packages\\keras\\utils\\traceback_utils.py:70\u001b[0m, in \u001b[0;36mfilter_traceback.<locals>.error_handler\u001b[1;34m(*args, **kwargs)\u001b[0m\n\u001b[0;32m     67\u001b[0m     filtered_tb \u001b[39m=\u001b[39m _process_traceback_frames(e\u001b[39m.\u001b[39m__traceback__)\n\u001b[0;32m     68\u001b[0m     \u001b[39m# To get the full stack trace, call:\u001b[39;00m\n\u001b[0;32m     69\u001b[0m     \u001b[39m# `tf.debugging.disable_traceback_filtering()`\u001b[39;00m\n\u001b[1;32m---> 70\u001b[0m     \u001b[39mraise\u001b[39;00m e\u001b[39m.\u001b[39mwith_traceback(filtered_tb) \u001b[39mfrom\u001b[39;00m \u001b[39mNone\u001b[39m\n\u001b[0;32m     71\u001b[0m \u001b[39mfinally\u001b[39;00m:\n\u001b[0;32m     72\u001b[0m     \u001b[39mdel\u001b[39;00m filtered_tb\n",
      "File \u001b[1;32m~\\AppData\\Roaming\\Python\\Python39\\site-packages\\tensorflow\\python\\framework\\constant_op.py:102\u001b[0m, in \u001b[0;36mconvert_to_eager_tensor\u001b[1;34m(value, ctx, dtype)\u001b[0m\n\u001b[0;32m    100\u001b[0m     dtype \u001b[39m=\u001b[39m dtypes\u001b[39m.\u001b[39mas_dtype(dtype)\u001b[39m.\u001b[39mas_datatype_enum\n\u001b[0;32m    101\u001b[0m ctx\u001b[39m.\u001b[39mensure_initialized()\n\u001b[1;32m--> 102\u001b[0m \u001b[39mreturn\u001b[39;00m ops\u001b[39m.\u001b[39;49mEagerTensor(value, ctx\u001b[39m.\u001b[39;49mdevice_name, dtype)\n",
      "\u001b[1;31mInternalError\u001b[0m: Failed copying input tensor from /job:localhost/replica:0/task:0/device:CPU:0 to /job:localhost/replica:0/task:0/device:GPU:0 in order to run _EagerConst: Dst tensor is not initialized."
     ]
    }
   ],
   "source": [
    "history = model.fit(x_train, y_train ,batch_size = 10, epochs=20 ,validation_data=(x_val, y_val))"
   ]
  }
 ],
 "metadata": {
  "kernelspec": {
   "display_name": "Python 3.9.13 64-bit",
   "language": "python",
   "name": "python3"
  },
  "language_info": {
   "codemirror_mode": {
    "name": "ipython",
    "version": 3
   },
   "file_extension": ".py",
   "mimetype": "text/x-python",
   "name": "python",
   "nbconvert_exporter": "python",
   "pygments_lexer": "ipython3",
   "version": "3.9.13"
  },
  "orig_nbformat": 4,
  "vscode": {
   "interpreter": {
    "hash": "36244e4de308ebfb99223db70a9bbb501500fb7b528e547672c4c57c783f328c"
   }
  }
 },
 "nbformat": 4,
 "nbformat_minor": 2
}
